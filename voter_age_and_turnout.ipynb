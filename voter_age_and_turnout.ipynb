{
 "cells": [
  {
   "cell_type": "code",
   "execution_count": 1,
   "metadata": {
    "collapsed": true
   },
   "outputs": [],
   "source": [
    "import sqlite3\n",
    "import pandas as pd\n",
    "import sys\n",
    "import time"
   ]
  },
  {
   "cell_type": "code",
   "execution_count": 2,
   "metadata": {
    "collapsed": true
   },
   "outputs": [],
   "source": [
    "def age_at_election(dob, election_date):\n",
    "    '''Given an election date and a date of birth, return the person's age \n",
    "    in years on election day. Return years as floor of years - ie, if someone is 70 years old\n",
    "    and 360 days, return 70. '''\n",
    "    try:\n",
    "        return relativedelta(pd.to_datetime(election_date), pd.to_datetime(dob, format=\"%Y%m%d\")).years\n",
    "    except:\n",
    "        return float('nan')\n",
    "\n",
    "def young_at_election(series, election_date):\n",
    "    '''Given an election date and a date of birth pandas Series, return \n",
    "    a Series whether or not someone was 24 or under on election day.\n",
    "    Return years as floor of years - ie, if someone is 70 years old\n",
    "    and 360 days, return 70. '''\n",
    "    return pd.to_datetime(series, format = \"%Y%m%d\", errors = \"coerce\") + pd.DateOffset(years=24) >= election_date\n",
    "\n",
    "def find_election(array, year, e_type):\n",
    "    if array is None:\n",
    "        return None\n",
    "    \n",
    "    if e_type.lower() == \"general\":\n",
    "        e_type = \"GE\"\n",
    "    elif e_type.lower() == \"primary\":\n",
    "        e_type = \"PR\"\n",
    "    else:\n",
    "        return None\n",
    "    \n",
    "    year = str(year)\n",
    "    \n",
    "    # Some elections might use YY instead of YYYY\n",
    "    # TODO: unsolved\n",
    "    # New bug: some elections recorded as %m%d%Y\n",
    "    # So I would also return true for something like '061416' -> June, 14 2016 election\n",
    "    # But that wouldn't have \"GE\" in it usually\n",
    "    # An exception would be something like \"GENEVA election 2016\"\n",
    "    # But that's being captured errorenously anyway --> TODO!\n",
    "    # For now, I'm going to do that\n",
    "    # This is a quick and cheap data check anyway\n",
    "    \n",
    "    for election in array:\n",
    "        if year in election and e_type in election:\n",
    "            return True\n",
    "    return False"
   ]
  },
  {
   "cell_type": "code",
   "execution_count": 3,
   "metadata": {
    "collapsed": true
   },
   "outputs": [],
   "source": [
    "# Loading bar from: https://gist.github.com/vladignatyev/06860ec2040cb497f0f3\n",
    "def progress(count, total, status=''):\n",
    "    bar_len = 60\n",
    "    filled_len = int(round(bar_len * count / float(total)))\n",
    "\n",
    "    percents = round(100.0 * count / float(total), 1)\n",
    "    bar = '=' * filled_len + '-' * (bar_len - filled_len)\n",
    "\n",
    "    sys.stdout.write('[%s] %s%s ...%s\\r' % (bar, percents, '%', status))\n",
    "    sys.stdout.flush() # As suggested by Rom Ruben (see: http://stackoverflow.com/questions/3173320/text-progress-bar-in-the-console/27871113#comment50529068_27871113)"
   ]
  },
  {
   "cell_type": "code",
   "execution_count": 4,
   "metadata": {
    "collapsed": true
   },
   "outputs": [],
   "source": [
    "read_cols = [\"City\", \"Zip5\",\"DOB\",\"Gender\",\"Party\",\"County_Code\",\\\n",
    "        \"CD\",\"State_Senate\",\\\n",
    "        \"State_Assembly\",\"Reg_Date\",\"Status\",\"StateID\", \"Voter_Hx\"]"
   ]
  },
  {
   "cell_type": "code",
   "execution_count": 5,
   "metadata": {},
   "outputs": [
    {
     "data": {
      "text/plain": [
       "2770204"
      ]
     },
     "execution_count": 5,
     "metadata": {},
     "output_type": "execute_result"
    }
   ],
   "source": [
    "with sqlite3.connect(\"../data/govt990.db\") as db:\n",
    "    query = \"\"\"SELECT COUNT(*)\n",
    "    FROM nys_young_voters;\"\"\"\n",
    "    nrows = pd.read_sql(query, db).iloc[0,0]\n",
    "nrows"
   ]
  },
  {
   "cell_type": "code",
   "execution_count": 6,
   "metadata": {},
   "outputs": [
    {
     "data": {
      "text/plain": [
       "2609291"
      ]
     },
     "execution_count": 6,
     "metadata": {},
     "output_type": "execute_result"
    }
   ],
   "source": [
    "with sqlite3.connect(\"../data/govt990.db\") as db:\n",
    "    query = \"\"\"SELECT COUNT(DISTINCT(stateid))\n",
    "    FROM nys_young_voters;\"\"\"\n",
    "    nvoters = pd.read_sql(query, db).iloc[0,0]\n",
    "nvoters"
   ]
  },
  {
   "cell_type": "code",
   "execution_count": 7,
   "metadata": {
    "collapsed": true
   },
   "outputs": [],
   "source": [
    "import pdb"
   ]
  },
  {
   "cell_type": "code",
   "execution_count": 8,
   "metadata": {
    "collapsed": true
   },
   "outputs": [],
   "source": [
    "# I want to see how many people under 24 the data said voted in the 2014 midterm elections.\n",
    "# After, I will look at how many people under 24 the data said voted in the 2010 midterms. \n",
    "# I will read in all of the data, and then get the count of rows which were <= 24 at \n",
    "# the time of the given election AND voted in the general election that year. \n",
    "def my_fnct(debug = False):\n",
    "    elections = [\"11/4/14\", \"11/2/10\"] # midterm dates\n",
    "    voted2014 = 0 # number of young people who voted, init at 0\n",
    "    voted2010 = 0 \n",
    "    count = 0 # to keep track of progress\n",
    "    myChunkSize = int(1e6) # chunksize\n",
    "\n",
    "    start =time.time()\n",
    "\n",
    "    with sqlite3.connect(\"../data/govt990.db\") as db:\n",
    "        query = \"\"\"SELECT *\n",
    "        FROM nys_young_voters;\"\"\"\n",
    "        reader = pd.read_sql(query, db, chunksize = myChunkSize)\n",
    "        for chunk in reader:\n",
    "            count += len(chunk)\n",
    "            chunk[\"Young2010\"] = young_at_election(chunk[\"DOB\"], election_date = elections[1])\n",
    "            chunk[\"Voted2010\"] = chunk[\"Voter_Hx\"].str.upper().str.split(\";\").apply(find_election, year = 2010, e_type = \"General\")\n",
    "\n",
    "            voted2010 += len(chunk[(chunk[\"Young2010\"] == True) & (chunk[\"Voted2010\"] == True)])\n",
    "\n",
    "            chunk[\"Young2014\"] = young_at_election(chunk[\"DOB\"], election_date = elections[0])\n",
    "            chunk[\"Voted2014\"] = chunk[\"Voter_Hx\"].str.upper().str.split(\";\").apply(find_election, year = 2014, e_type = \"General\")\n",
    "            voted2014 += len(chunk[(chunk[\"Young2014\"] == True) & (chunk[\"Voted2014\"] == True)])\n",
    "\n",
    "            if debug == True:\n",
    "                pdb.set_trace()\n",
    "            # voted204 += chunk[\"Voted2014\"].sum()\n",
    "\n",
    "            progress(count, nrows)\n",
    "#             passed = time.time() - start\n",
    "#             if passed > 120:\n",
    "#                 sys.exit()\n",
    "    return({'voted14' :voted2014, 'voted10': voted2010})"
   ]
  },
  {
   "cell_type": "markdown",
   "metadata": {},
   "source": [
    "Bugs:\n",
    "- It looks like the 2010 records have duplicate records (and a lot of them!)\n",
    "- The 2014 records are undercounting voters, and I do not know why"
   ]
  },
  {
   "cell_type": "code",
   "execution_count": 9,
   "metadata": {
    "scrolled": false
   },
   "outputs": [
    {
     "name": "stdout",
     "output_type": "stream",
     "text": [
      "[============================================================] 100.0% ...\r"
     ]
    }
   ],
   "source": [
    "res = my_fnct(debug=False)"
   ]
  },
  {
   "cell_type": "code",
   "execution_count": 10,
   "metadata": {
    "scrolled": true
   },
   "outputs": [
    {
     "data": {
      "text/plain": [
       "{'voted10': 141273, 'voted14': 93726}"
      ]
     },
     "execution_count": 10,
     "metadata": {},
     "output_type": "execute_result"
    }
   ],
   "source": [
    "res"
   ]
  },
  {
   "cell_type": "code",
   "execution_count": 11,
   "metadata": {
    "collapsed": true
   },
   "outputs": [],
   "source": [
    "voted2014 = 205047"
   ]
  },
  {
   "cell_type": "code",
   "execution_count": 12,
   "metadata": {},
   "outputs": [
    {
     "ename": "NameError",
     "evalue": "name 'chunk' is not defined",
     "output_type": "error",
     "traceback": [
      "\u001b[0;31m---------------------------------------------------------------------------\u001b[0m",
      "\u001b[0;31mNameError\u001b[0m                                 Traceback (most recent call last)",
      "\u001b[0;32m<ipython-input-12-b0b290a06c64>\u001b[0m in \u001b[0;36m<module>\u001b[0;34m()\u001b[0m\n\u001b[0;32m----> 1\u001b[0;31m \u001b[0mchunk\u001b[0m\u001b[0;34m[\u001b[0m\u001b[0;32mnot\u001b[0m \u001b[0mchunk\u001b[0m\u001b[0;34m[\u001b[0m\u001b[0;34m\"Young2010\"\u001b[0m\u001b[0;34m]\u001b[0m \u001b[0;34m&\u001b[0m \u001b[0mchunk\u001b[0m\u001b[0;34m[\u001b[0m\u001b[0;34m\"Voted2010\"\u001b[0m\u001b[0;34m]\u001b[0m\u001b[0;34m]\u001b[0m\u001b[0;34m\u001b[0m\u001b[0m\n\u001b[0m",
      "\u001b[0;31mNameError\u001b[0m: name 'chunk' is not defined"
     ]
    }
   ],
   "source": [
    "chunk[not chunk[\"Young2010\"] & chunk[\"Voted2010\"]]"
   ]
  },
  {
   "cell_type": "code",
   "execution_count": null,
   "metadata": {
    "collapsed": true,
    "scrolled": true
   },
   "outputs": [],
   "source": [
    "actualVote = int(258e3) # from https://www.census.gov/data/tables/time-series/demo/voting-and-registration/p20-577.html\n",
    "actualVote - voted2014"
   ]
  },
  {
   "cell_type": "markdown",
   "metadata": {},
   "source": [
    "That is a huge discrepency. It is part becasue the Census uses self-reporting."
   ]
  }
 ],
 "metadata": {
  "kernelspec": {
   "display_name": "Python 3",
   "language": "python",
   "name": "python3"
  },
  "language_info": {
   "codemirror_mode": {
    "name": "ipython",
    "version": 3
   },
   "file_extension": ".py",
   "mimetype": "text/x-python",
   "name": "python",
   "nbconvert_exporter": "python",
   "pygments_lexer": "ipython3",
   "version": "3.6.1"
  }
 },
 "nbformat": 4,
 "nbformat_minor": 2
}
