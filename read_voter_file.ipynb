{
 "cells": [
  {
   "cell_type": "code",
   "execution_count": 1,
   "metadata": {
    "collapsed": true
   },
   "outputs": [],
   "source": [
    "import pandas as pd\n",
    "import sqlite3\n",
    "from time import time, sleep\n",
    "import sys \n",
    "from time import sleep\n",
    "import numpy as np\n",
    "from helper_functions import *"
   ]
  },
  {
   "cell_type": "code",
   "execution_count": 2,
   "metadata": {},
   "outputs": [
    {
     "name": "stdout",
     "output_type": "stream",
     "text": [
      "Int64Index([ 0,  1,  2,  3,  4,  5,  6,  7,  8,  9, 10, 11, 12, 13, 14, 15, 16,\n",
      "            17, 18, 19, 20, 21, 22, 23, 24, 25, 26, 27, 28, 29, 30, 31, 32, 33,\n",
      "            34, 35, 36, 37, 38, 39, 40, 41, 42, 43, 44],\n",
      "           dtype='int64')\n"
     ]
    }
   ],
   "source": [
    "df = pd.read_csv(\"../data/AllNYSVoters.txt\", nrows= 10, header=None)\n",
    "print(df.columns)"
   ]
  },
  {
   "cell_type": "code",
   "execution_count": null,
   "metadata": {},
   "outputs": [],
   "source": [
    "# rename columns\n",
    "cols = [\"Last_Name\", \"First_Name\", \"Middle_Name\", \"Name_Suffix\",\"House_Number\", \\\n",
    "       \"Half_Code\",\"Apartment\",\"Pre_Street_Direction\",\"Street_Name_Orig\",\"Post_Street_Direction\",\\\n",
    "       \"City\", \"Zip5\", \"Zip4\", \"Mailing_Address1\", \"Mailing_Address2\", \"Mailing_Address3\",\\\n",
    "       \"Mailing_Address4\", \"DOB\",\"Gender\",\"Party\",\"Other_Party\",\"County_Code\",\\\n",
    "       \"Election_District\",\"Legislative_District\",\"Town\",\"Ward\",\"CD\",\"State_Senate\",\\\n",
    "        \"State_Assembly\",\"Last_Date_Voted\",\"LastYearVoted\",\"PrevCounty\", \"PrevAddres\",\\\n",
    "       \"PrevName\",\"CountyID\",\"Reg_Date\",\"AppSource\",\"IDReq\",\"IDmet\",\"Status\",\"Reason\",\"InactDate\",\\\n",
    "       \"PurgeDate\",\"StateID\", \"Voter_Hx\"]\n",
    "df.columns = cols\n",
    "# Columns to read from the raw data\n",
    "read_cols = [\"City\", \"Zip5\",\"DOB\",\"Gender\",\"Party\",\"County_Code\",\\\n",
    "        \"CD\",\"State_Senate\",\\\n",
    "        \"State_Assembly\",\"Reg_Date\",\"Status\",\"StateID\", \"Voter_Hx\"]\n",
    "# Columns to be used in the final table. \n",
    "use_cols = [\"City\", \"Zip5\",\"DOB\",\"Gender\",\"Party\",\"County_Code\",\\\n",
    "       \"CD\",\"State_Senate\",\\\n",
    "        \"State_Assembly\",\"Reg_Date\",\"Status\",\"StateID\", \"Voter_Hx\"]\n",
    "\n",
    "df.head()"
   ]
  },
  {
   "cell_type": "code",
   "execution_count": 4,
   "metadata": {
    "collapsed": true
   },
   "outputs": [],
   "source": [
    "data_types = {\n",
    "    'City': str,\n",
    "    'Zip5': np.float64,\n",
    "    'DOB': str,\n",
    "    'Gender': str,\n",
    "    'County_Code': np.float64,\n",
    "    'CD': np.float64,\n",
    "    'State_Senate': np.float64,\n",
    "    'State_Assembly': np.float64,\n",
    "    'Reg_Date': str,\n",
    "    'StateID': str,\n",
    "    'Voter_Hx': str,\n",
    "}"
   ]
  },
  {
   "cell_type": "markdown",
   "metadata": {},
   "source": [
    "### Save select Data"
   ]
  },
  {
   "cell_type": "code",
   "execution_count": 5,
   "metadata": {},
   "outputs": [
    {
     "name": "stdout",
     "output_type": "stream",
     "text": [
      "['11/4/14', '11/2/10']\n"
     ]
    }
   ],
   "source": [
    "# Midterm election dates\n",
    "elections = [\"11/4/14\", \"11/2/10\"]\n",
    "print(elections)"
   ]
  },
  {
   "cell_type": "code",
   "execution_count": 6,
   "metadata": {
    "scrolled": true
   },
   "outputs": [
    {
     "name": "stdout",
     "output_type": "stream",
     "text": [
      "[============================================================] 100.0% ...\r"
     ]
    }
   ],
   "source": [
    "%timeit\n",
    "with sqlite3.connect(\"../data/govt990.db\") as db:\n",
    "    cursor = db.cursor()\n",
    "    cursor.execute('''\n",
    "    DROP TABLE IF EXISTS nys_young_voters;''')\n",
    "    cursor.execute('''\n",
    "    CREATE TABLE nys_young_voters(\n",
    "    City TEXT,\n",
    "    Zip5 INT,\n",
    "    DOB TEXT,\n",
    "    Gender TEXT,\n",
    "    Party TEXT,\n",
    "    County_Code INT,\n",
    "    CD INT,\n",
    "    State_Senate INT,\n",
    "    State_Assembly INT,\n",
    "    Last_Date_Voted TEXT,\n",
    "    Reg_Date TEXT,\n",
    "    Status TEXT,\n",
    "    StateID TEXT,\n",
    "    Voter_Hx TEXT);\n",
    "    ''')\n",
    "    count = 0 # init count\n",
    "    reader = pd.read_csv(\"../data/AllNYSVoters.txt\", names = cols, usecols = read_cols,\n",
    "                         chunksize = int(5e4), encoding = \"latin1\", dtype = data_types, header = None,\n",
    "                         engine = \"c\")\n",
    "    for chunk in reader:\n",
    "        count += len(chunk)\n",
    "        # Filter out voters who were > 24 years old in the last election I\n",
    "        # am going to examine\n",
    "        last_election = elections[len(elections) - 1]\n",
    "        chunk[\"Young\"] = young_at_election(chunk[\"DOB\"], election_date = last_election)\n",
    "        chunk[read_cols][chunk[\"Young\"]].to_sql(\"nys_young_voters\", db, if_exists = \"append\", index = False,\n",
    "                                               chunksize = int(len(chunk)/4))\n",
    "        \n",
    "        if count % (2 * int(5e5)) == 0:\n",
    "            sleep(15)\n",
    "        progress(count, total=17784437)"
   ]
  }
 ],
 "metadata": {
  "kernelspec": {
   "display_name": "Python 3",
   "language": "python",
   "name": "python3"
  },
  "language_info": {
   "codemirror_mode": {
    "name": "ipython",
    "version": 3
   },
   "file_extension": ".py",
   "mimetype": "text/x-python",
   "name": "python",
   "nbconvert_exporter": "python",
   "pygments_lexer": "ipython3",
   "version": "3.6.1"
  }
 },
 "nbformat": 4,
 "nbformat_minor": 2
}
